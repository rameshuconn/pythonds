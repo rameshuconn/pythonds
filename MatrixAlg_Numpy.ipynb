{
  "nbformat": 4,
  "nbformat_minor": 0,
  "metadata": {
    "colab": {
      "provenance": [],
      "mount_file_id": "10qiZzclq9cP0JUp2QO0364K-J4-NH4v6",
      "authorship_tag": "ABX9TyP87EUKRBVHPsFodnb5Csh1",
      "include_colab_link": true
    },
    "kernelspec": {
      "name": "python3",
      "display_name": "Python 3"
    },
    "language_info": {
      "name": "python"
    }
  },
  "cells": [
    {
      "cell_type": "markdown",
      "metadata": {
        "id": "view-in-github",
        "colab_type": "text"
      },
      "source": [
        "<a href=\"https://colab.research.google.com/github/rameshuconn/pythonds/blob/main/MatrixAlg_Numpy.ipynb\" target=\"_parent\"><img src=\"https://colab.research.google.com/assets/colab-badge.svg\" alt=\"Open In Colab\"/></a>"
      ]
    },
    {
      "cell_type": "code",
      "execution_count": null,
      "metadata": {
        "id": "TJo32Z4Xb3lG"
      },
      "outputs": [],
      "source": [
        "import numpy as np"
      ]
    },
    {
      "cell_type": "code",
      "source": [
        "a = np.array([1,2,3,4,5]);\n",
        "a"
      ],
      "metadata": {
        "id": "ZSuo3dGjck40"
      },
      "execution_count": null,
      "outputs": []
    },
    {
      "cell_type": "code",
      "source": [
        "a.shape = (5,1);\n",
        "a"
      ],
      "metadata": {
        "id": "YKfyzbb7csI1"
      },
      "execution_count": null,
      "outputs": []
    },
    {
      "cell_type": "code",
      "source": [
        "a = np.array([[1,2,3],[4,5,6]]);\n",
        "a"
      ],
      "metadata": {
        "colab": {
          "base_uri": "https://localhost:8080/"
        },
        "id": "1PBrNarQc0Ck",
        "outputId": "b1fa8605-1944-4f7a-e5e2-a880bbc9f765"
      },
      "execution_count": null,
      "outputs": [
        {
          "output_type": "execute_result",
          "data": {
            "text/plain": [
              "array([[1, 2, 3],\n",
              "       [4, 5, 6]])"
            ]
          },
          "metadata": {},
          "execution_count": 5
        }
      ]
    },
    {
      "cell_type": "code",
      "source": [
        "a = np.random.randint(1,5, size=(3,3));\n",
        "a"
      ],
      "metadata": {
        "colab": {
          "base_uri": "https://localhost:8080/"
        },
        "id": "3afZu8OZdVWO",
        "outputId": "384a474f-45c8-4115-f102-b65f17e7ae95"
      },
      "execution_count": null,
      "outputs": [
        {
          "output_type": "execute_result",
          "data": {
            "text/plain": [
              "array([[3, 1, 1],\n",
              "       [4, 2, 3],\n",
              "       [4, 4, 3]])"
            ]
          },
          "metadata": {},
          "execution_count": 6
        }
      ]
    },
    {
      "cell_type": "code",
      "source": [
        "b = np.random.randint(1,5, size=(3,3));\n",
        "b"
      ],
      "metadata": {
        "colab": {
          "base_uri": "https://localhost:8080/"
        },
        "id": "0OgxSu5yebdc",
        "outputId": "040e356b-befb-4339-a230-3761117ee151"
      },
      "execution_count": null,
      "outputs": [
        {
          "output_type": "execute_result",
          "data": {
            "text/plain": [
              "array([[3, 4, 2],\n",
              "       [4, 1, 3],\n",
              "       [3, 3, 1]])"
            ]
          },
          "metadata": {},
          "execution_count": 7
        }
      ]
    },
    {
      "cell_type": "code",
      "source": [
        "np.dot(a,b)"
      ],
      "metadata": {
        "colab": {
          "base_uri": "https://localhost:8080/"
        },
        "id": "rI724jgmeiF0",
        "outputId": "df9a56bc-e202-490e-ee28-549cb0e3c76f"
      },
      "execution_count": null,
      "outputs": [
        {
          "output_type": "execute_result",
          "data": {
            "text/plain": [
              "array([[16, 16, 10],\n",
              "       [29, 27, 17],\n",
              "       [37, 29, 23]])"
            ]
          },
          "metadata": {},
          "execution_count": 10
        }
      ]
    },
    {
      "cell_type": "code",
      "source": [
        "a"
      ],
      "metadata": {
        "colab": {
          "base_uri": "https://localhost:8080/"
        },
        "id": "0YHNlcNcejHM",
        "outputId": "315e2234-4563-4664-826a-1f8bbe87152c"
      },
      "execution_count": null,
      "outputs": [
        {
          "output_type": "execute_result",
          "data": {
            "text/plain": [
              "array([[3, 1, 1],\n",
              "       [4, 2, 3],\n",
              "       [4, 4, 3]])"
            ]
          },
          "metadata": {},
          "execution_count": 11
        }
      ]
    },
    {
      "cell_type": "code",
      "source": [
        "a.T"
      ],
      "metadata": {
        "colab": {
          "base_uri": "https://localhost:8080/"
        },
        "id": "DhFwGwVpfJ0s",
        "outputId": "2d36a1f7-0ba8-4b99-8413-3272aaeba546"
      },
      "execution_count": null,
      "outputs": [
        {
          "output_type": "execute_result",
          "data": {
            "text/plain": [
              "array([[3, 4, 4],\n",
              "       [1, 2, 4],\n",
              "       [1, 3, 3]])"
            ]
          },
          "metadata": {},
          "execution_count": 12
        }
      ]
    },
    {
      "cell_type": "code",
      "source": [
        "c = a + a.T;\n",
        "c"
      ],
      "metadata": {
        "colab": {
          "base_uri": "https://localhost:8080/"
        },
        "id": "uFB1NRtvfKm9",
        "outputId": "dd80eb0b-ab78-4cc3-be50-eec21ccc8370"
      },
      "execution_count": null,
      "outputs": [
        {
          "output_type": "execute_result",
          "data": {
            "text/plain": [
              "array([[6, 5, 5],\n",
              "       [5, 4, 7],\n",
              "       [5, 7, 6]])"
            ]
          },
          "metadata": {},
          "execution_count": 13
        }
      ]
    },
    {
      "cell_type": "code",
      "source": [
        "c.T"
      ],
      "metadata": {
        "colab": {
          "base_uri": "https://localhost:8080/"
        },
        "id": "hVngPRkWfrbk",
        "outputId": "bbc12b1d-9717-4e66-81b2-e1822fde7e9f"
      },
      "execution_count": null,
      "outputs": [
        {
          "output_type": "execute_result",
          "data": {
            "text/plain": [
              "array([[6, 5, 5],\n",
              "       [5, 4, 7],\n",
              "       [5, 7, 6]])"
            ]
          },
          "metadata": {},
          "execution_count": 15
        }
      ]
    },
    {
      "cell_type": "code",
      "source": [
        "m = np.array([[6,2],[3,1]]);\n",
        "m"
      ],
      "metadata": {
        "colab": {
          "base_uri": "https://localhost:8080/"
        },
        "id": "BsUS6cKNftnN",
        "outputId": "99b06b8d-43f8-4aab-93ce-c85e91993500"
      },
      "execution_count": null,
      "outputs": [
        {
          "output_type": "execute_result",
          "data": {
            "text/plain": [
              "array([[6, 2],\n",
              "       [3, 1]])"
            ]
          },
          "metadata": {},
          "execution_count": 16
        }
      ]
    },
    {
      "cell_type": "code",
      "source": [
        "m.T"
      ],
      "metadata": {
        "colab": {
          "base_uri": "https://localhost:8080/"
        },
        "id": "OXMMpDb9f8u1",
        "outputId": "f04f38b8-bf54-48a4-ebec-9dcaa445f237"
      },
      "execution_count": null,
      "outputs": [
        {
          "output_type": "execute_result",
          "data": {
            "text/plain": [
              "array([[6, 3],\n",
              "       [2, 1]])"
            ]
          },
          "metadata": {},
          "execution_count": 17
        }
      ]
    },
    {
      "cell_type": "code",
      "source": [
        "m = np.array([[4,9,2],[5,7,1],[7,7,0]]);\n",
        "m"
      ],
      "metadata": {
        "colab": {
          "base_uri": "https://localhost:8080/"
        },
        "id": "TJcKGHn2f9ul",
        "outputId": "013f438a-db8d-4ea9-861c-3ade2666ac3d"
      },
      "execution_count": null,
      "outputs": [
        {
          "output_type": "execute_result",
          "data": {
            "text/plain": [
              "array([[4, 9, 2],\n",
              "       [5, 7, 1],\n",
              "       [7, 7, 0]])"
            ]
          },
          "metadata": {},
          "execution_count": 18
        }
      ]
    },
    {
      "cell_type": "code",
      "source": [
        "m.T"
      ],
      "metadata": {
        "colab": {
          "base_uri": "https://localhost:8080/"
        },
        "id": "9npvE4M_gQQl",
        "outputId": "6c592bb4-1376-4083-fb9c-10b35057ac0a"
      },
      "execution_count": null,
      "outputs": [
        {
          "output_type": "execute_result",
          "data": {
            "text/plain": [
              "array([[4, 5, 7],\n",
              "       [9, 7, 7],\n",
              "       [2, 1, 0]])"
            ]
          },
          "metadata": {},
          "execution_count": 19
        }
      ]
    },
    {
      "cell_type": "code",
      "source": [
        "np.transpose(m)"
      ],
      "metadata": {
        "colab": {
          "base_uri": "https://localhost:8080/"
        },
        "id": "Dg2fwvX-gSDN",
        "outputId": "9c572931-eb7a-4cfe-9d6f-c1792d222c5b"
      },
      "execution_count": null,
      "outputs": [
        {
          "output_type": "execute_result",
          "data": {
            "text/plain": [
              "array([[4, 5, 7],\n",
              "       [9, 7, 7],\n",
              "       [2, 1, 0]])"
            ]
          },
          "metadata": {},
          "execution_count": 20
        }
      ]
    },
    {
      "cell_type": "code",
      "source": [
        "a = np.array([[1,2],[3,4]]);\n",
        "a"
      ],
      "metadata": {
        "colab": {
          "base_uri": "https://localhost:8080/"
        },
        "id": "aeLUMVdlgeJ1",
        "outputId": "f9bbde83-ed83-4e07-b66c-11ccaba9f0bd"
      },
      "execution_count": null,
      "outputs": [
        {
          "output_type": "execute_result",
          "data": {
            "text/plain": [
              "array([[1, 2],\n",
              "       [3, 4]])"
            ]
          },
          "metadata": {},
          "execution_count": 22
        }
      ]
    },
    {
      "cell_type": "code",
      "source": [
        "import numpy as np"
      ],
      "metadata": {
        "id": "XSr7XftWhCnt"
      },
      "execution_count": null,
      "outputs": []
    },
    {
      "cell_type": "code",
      "source": [
        "a = np.array([[1,2,3],[4,5,6]]);\n",
        "a"
      ],
      "metadata": {
        "colab": {
          "base_uri": "https://localhost:8080/"
        },
        "id": "PNDlna4WLUcB",
        "outputId": "4a344939-9668-4f5a-ef84-22d234637cff"
      },
      "execution_count": null,
      "outputs": [
        {
          "output_type": "execute_result",
          "data": {
            "text/plain": [
              "array([[1, 2, 3],\n",
              "       [4, 5, 6]])"
            ]
          },
          "metadata": {},
          "execution_count": 3
        }
      ]
    },
    {
      "cell_type": "code",
      "source": [
        "b = np.array([[3,2],[1,4],[5,6]]);\n",
        "b"
      ],
      "metadata": {
        "colab": {
          "base_uri": "https://localhost:8080/"
        },
        "id": "E9XOJd9XLZgw",
        "outputId": "7a28afac-8c82-4d44-eb87-90d3c8dc5760"
      },
      "execution_count": null,
      "outputs": [
        {
          "output_type": "execute_result",
          "data": {
            "text/plain": [
              "array([[3, 2],\n",
              "       [1, 4],\n",
              "       [5, 6]])"
            ]
          },
          "metadata": {},
          "execution_count": 4
        }
      ]
    },
    {
      "cell_type": "code",
      "source": [
        "np.dot(a,b)"
      ],
      "metadata": {
        "colab": {
          "base_uri": "https://localhost:8080/"
        },
        "id": "2zVL4kr8LlWo",
        "outputId": "17f306a4-1284-4f78-ea04-10707a53e26e"
      },
      "execution_count": null,
      "outputs": [
        {
          "output_type": "execute_result",
          "data": {
            "text/plain": [
              "array([[20, 28],\n",
              "       [47, 64]])"
            ]
          },
          "metadata": {},
          "execution_count": 5
        }
      ]
    },
    {
      "cell_type": "code",
      "source": [
        "a = np.array([[1,4,7],[2,5,8],[3,6,9]]);a"
      ],
      "metadata": {
        "colab": {
          "base_uri": "https://localhost:8080/"
        },
        "id": "DGSr-BxELrgZ",
        "outputId": "1a2af138-3923-4f0c-fdfa-428160bb8526"
      },
      "execution_count": null,
      "outputs": [
        {
          "output_type": "execute_result",
          "data": {
            "text/plain": [
              "array([[1, 4, 7],\n",
              "       [2, 5, 8],\n",
              "       [3, 6, 9]])"
            ]
          },
          "metadata": {},
          "execution_count": 6
        }
      ]
    },
    {
      "cell_type": "code",
      "source": [
        "b = np.array([[1,4],[2,5],[3,6]]);b"
      ],
      "metadata": {
        "colab": {
          "base_uri": "https://localhost:8080/"
        },
        "id": "8HDHS8WDOQmY",
        "outputId": "19eaad04-b07d-4d46-dea4-07a6900ba595"
      },
      "execution_count": null,
      "outputs": [
        {
          "output_type": "execute_result",
          "data": {
            "text/plain": [
              "array([[1, 4],\n",
              "       [2, 5],\n",
              "       [3, 6]])"
            ]
          },
          "metadata": {},
          "execution_count": 7
        }
      ]
    },
    {
      "cell_type": "code",
      "source": [
        "np.dot(a,b)"
      ],
      "metadata": {
        "colab": {
          "base_uri": "https://localhost:8080/"
        },
        "id": "FpjgJgPZOWBI",
        "outputId": "70789bed-f47e-45cc-d510-f6ce201e43e8"
      },
      "execution_count": null,
      "outputs": [
        {
          "output_type": "execute_result",
          "data": {
            "text/plain": [
              "array([[30, 66],\n",
              "       [36, 81],\n",
              "       [42, 96]])"
            ]
          },
          "metadata": {},
          "execution_count": 8
        }
      ]
    },
    {
      "cell_type": "code",
      "source": [
        "c = np.array([[4,1,2],[3,5,1]]);c"
      ],
      "metadata": {
        "colab": {
          "base_uri": "https://localhost:8080/"
        },
        "id": "QJj9FdmZOlV5",
        "outputId": "d94f5bab-6166-4b59-8ecc-22c3022280fa"
      },
      "execution_count": null,
      "outputs": [
        {
          "output_type": "execute_result",
          "data": {
            "text/plain": [
              "array([[4, 1, 2],\n",
              "       [3, 5, 1]])"
            ]
          },
          "metadata": {},
          "execution_count": 10
        }
      ]
    },
    {
      "cell_type": "code",
      "source": [
        "np.dot(\n",
        "    np.dot(a,b),c\n",
        "    )"
      ],
      "metadata": {
        "colab": {
          "base_uri": "https://localhost:8080/"
        },
        "id": "iGAi8pB_O_J5",
        "outputId": "6d7be833-9690-4bf1-c853-bf362c0b11c9"
      },
      "execution_count": null,
      "outputs": [
        {
          "output_type": "execute_result",
          "data": {
            "text/plain": [
              "array([[318, 360, 126],\n",
              "       [387, 441, 153],\n",
              "       [456, 522, 180]])"
            ]
          },
          "metadata": {},
          "execution_count": 11
        }
      ]
    },
    {
      "cell_type": "code",
      "source": [
        "np.dot(\n",
        "    a,np.dot(b,c)\n",
        "    )"
      ],
      "metadata": {
        "colab": {
          "base_uri": "https://localhost:8080/"
        },
        "id": "wK2s13bZQHvR",
        "outputId": "656649fb-875f-45e5-b8e9-a4bca852ef92"
      },
      "execution_count": null,
      "outputs": [
        {
          "output_type": "execute_result",
          "data": {
            "text/plain": [
              "array([[318, 360, 126],\n",
              "       [387, 441, 153],\n",
              "       [456, 522, 180]])"
            ]
          },
          "metadata": {},
          "execution_count": 12
        }
      ]
    },
    {
      "cell_type": "code",
      "source": [
        "a"
      ],
      "metadata": {
        "colab": {
          "base_uri": "https://localhost:8080/"
        },
        "id": "I3oad3NiQcYJ",
        "outputId": "b24f32be-38e7-479d-d2fc-19f367183f12"
      },
      "execution_count": null,
      "outputs": [
        {
          "output_type": "execute_result",
          "data": {
            "text/plain": [
              "array([[1, 4, 7],\n",
              "       [2, 5, 8],\n",
              "       [3, 6, 9]])"
            ]
          },
          "metadata": {},
          "execution_count": 13
        }
      ]
    },
    {
      "cell_type": "code",
      "source": [
        "b"
      ],
      "metadata": {
        "colab": {
          "base_uri": "https://localhost:8080/"
        },
        "id": "gfkLQUgkQtjh",
        "outputId": "2455e0b8-c385-4c37-8eb4-74fc2c2249dd"
      },
      "execution_count": null,
      "outputs": [
        {
          "output_type": "execute_result",
          "data": {
            "text/plain": [
              "array([[1, 4],\n",
              "       [2, 5],\n",
              "       [3, 6]])"
            ]
          },
          "metadata": {},
          "execution_count": 14
        }
      ]
    },
    {
      "cell_type": "code",
      "source": [
        "np.dot(a,b).T"
      ],
      "metadata": {
        "colab": {
          "base_uri": "https://localhost:8080/"
        },
        "id": "pMBI5CAmQt4A",
        "outputId": "55e515f8-4406-4965-8b81-8eab54df2996"
      },
      "execution_count": null,
      "outputs": [
        {
          "output_type": "execute_result",
          "data": {
            "text/plain": [
              "array([[30, 36, 42],\n",
              "       [66, 81, 96]])"
            ]
          },
          "metadata": {},
          "execution_count": 16
        }
      ]
    },
    {
      "cell_type": "code",
      "source": [
        "np.dot(b.T,a.T)"
      ],
      "metadata": {
        "colab": {
          "base_uri": "https://localhost:8080/"
        },
        "id": "-SNb98oTRK6o",
        "outputId": "691efe90-5ee4-4b73-f4c1-c7273ca07154"
      },
      "execution_count": null,
      "outputs": [
        {
          "output_type": "execute_result",
          "data": {
            "text/plain": [
              "array([[30, 36, 42],\n",
              "       [66, 81, 96]])"
            ]
          },
          "metadata": {},
          "execution_count": 17
        }
      ]
    },
    {
      "cell_type": "code",
      "source": [
        "5 * (1/5)"
      ],
      "metadata": {
        "colab": {
          "base_uri": "https://localhost:8080/"
        },
        "id": "LKhtU1SMRPuo",
        "outputId": "90c1c81e-a55b-4b41-efa9-802544493f8b"
      },
      "execution_count": null,
      "outputs": [
        {
          "output_type": "execute_result",
          "data": {
            "text/plain": [
              "1.0"
            ]
          },
          "metadata": {},
          "execution_count": 18
        }
      ]
    },
    {
      "cell_type": "code",
      "source": [
        "a = np.random.randint(1,5,size=(3,3));a"
      ],
      "metadata": {
        "colab": {
          "base_uri": "https://localhost:8080/"
        },
        "id": "19icBGpSZ2Qa",
        "outputId": "278c62ae-92dc-446e-e30b-34a130714740"
      },
      "execution_count": null,
      "outputs": [
        {
          "output_type": "execute_result",
          "data": {
            "text/plain": [
              "array([[2, 3, 2],\n",
              "       [2, 4, 4],\n",
              "       [1, 1, 4]])"
            ]
          },
          "metadata": {},
          "execution_count": 24
        }
      ]
    },
    {
      "cell_type": "code",
      "source": [
        "a_inv = np.linalg.inv(a)"
      ],
      "metadata": {
        "id": "npf-FhIkZ40p"
      },
      "execution_count": null,
      "outputs": []
    },
    {
      "cell_type": "code",
      "source": [
        "a_inv"
      ],
      "metadata": {
        "colab": {
          "base_uri": "https://localhost:8080/"
        },
        "id": "VXSi6tz8Z80B",
        "outputId": "e3187314-7e31-438a-8e41-09949b1488ff"
      },
      "execution_count": null,
      "outputs": [
        {
          "output_type": "execute_result",
          "data": {
            "text/plain": [
              "array([[ 1.5  , -1.25 ,  0.5  ],\n",
              "       [-0.5  ,  0.75 , -0.5  ],\n",
              "       [-0.25 ,  0.125,  0.25 ]])"
            ]
          },
          "metadata": {},
          "execution_count": 26
        }
      ]
    },
    {
      "cell_type": "code",
      "source": [
        "I = np.dot(a,a_inv);\n",
        "I"
      ],
      "metadata": {
        "colab": {
          "base_uri": "https://localhost:8080/"
        },
        "id": "K5DzCpPcaQOx",
        "outputId": "dcd87e55-6004-4ea9-ba24-a2825d2f2cb0"
      },
      "execution_count": null,
      "outputs": [
        {
          "output_type": "execute_result",
          "data": {
            "text/plain": [
              "array([[1., 0., 0.],\n",
              "       [0., 1., 0.],\n",
              "       [0., 0., 1.]])"
            ]
          },
          "metadata": {},
          "execution_count": 29
        }
      ]
    },
    {
      "cell_type": "code",
      "source": [
        "np.dot(a,I)"
      ],
      "metadata": {
        "colab": {
          "base_uri": "https://localhost:8080/"
        },
        "id": "NK0AMXGdaS_Z",
        "outputId": "41c82236-ab96-42b8-f3ab-8f2fc8e1ebe5"
      },
      "execution_count": null,
      "outputs": [
        {
          "output_type": "execute_result",
          "data": {
            "text/plain": [
              "array([[2., 3., 2.],\n",
              "       [2., 4., 4.],\n",
              "       [1., 1., 4.]])"
            ]
          },
          "metadata": {},
          "execution_count": 30
        }
      ]
    },
    {
      "cell_type": "code",
      "source": [
        "a = np.random.randint(1,5,size=(3,3));a"
      ],
      "metadata": {
        "colab": {
          "base_uri": "https://localhost:8080/"
        },
        "id": "sb0Co7t5ajj5",
        "outputId": "c1abcf56-b054-467d-e63e-bc62eb84389b"
      },
      "execution_count": null,
      "outputs": [
        {
          "output_type": "execute_result",
          "data": {
            "text/plain": [
              "array([[3, 2, 2],\n",
              "       [1, 4, 1],\n",
              "       [4, 3, 2]])"
            ]
          },
          "metadata": {},
          "execution_count": 31
        }
      ]
    },
    {
      "cell_type": "code",
      "source": [
        "np.diagonal(a)"
      ],
      "metadata": {
        "colab": {
          "base_uri": "https://localhost:8080/"
        },
        "id": "-AT_X6n0a8OR",
        "outputId": "8b2069be-b5ba-4670-a0a0-7a2f9479f18f"
      },
      "execution_count": null,
      "outputs": [
        {
          "output_type": "execute_result",
          "data": {
            "text/plain": [
              "array([3, 4, 2])"
            ]
          },
          "metadata": {},
          "execution_count": 32
        }
      ]
    },
    {
      "cell_type": "code",
      "source": [
        "np.diag(a)"
      ],
      "metadata": {
        "colab": {
          "base_uri": "https://localhost:8080/"
        },
        "id": "1-kSxTlma_VI",
        "outputId": "3d032875-5088-428c-deef-23b82c38fe2e"
      },
      "execution_count": null,
      "outputs": [
        {
          "output_type": "execute_result",
          "data": {
            "text/plain": [
              "array([3, 4, 2])"
            ]
          },
          "metadata": {},
          "execution_count": 33
        }
      ]
    },
    {
      "cell_type": "code",
      "source": [
        "np.diag(np.diag(a))"
      ],
      "metadata": {
        "colab": {
          "base_uri": "https://localhost:8080/"
        },
        "id": "MltDa7XYbBhQ",
        "outputId": "92802861-f9d4-4f01-cd05-a2c749fecf61"
      },
      "execution_count": null,
      "outputs": [
        {
          "output_type": "execute_result",
          "data": {
            "text/plain": [
              "array([[3, 0, 0],\n",
              "       [0, 4, 0],\n",
              "       [0, 0, 2]])"
            ]
          },
          "metadata": {},
          "execution_count": 34
        }
      ]
    },
    {
      "cell_type": "code",
      "source": [
        "np.diag([1,2,3])"
      ],
      "metadata": {
        "colab": {
          "base_uri": "https://localhost:8080/"
        },
        "id": "lDiH65d5bFAI",
        "outputId": "d676a56d-b980-4321-9ca7-56ede1374eb8"
      },
      "execution_count": null,
      "outputs": [
        {
          "output_type": "execute_result",
          "data": {
            "text/plain": [
              "array([[1, 0, 0],\n",
              "       [0, 2, 0],\n",
              "       [0, 0, 3]])"
            ]
          },
          "metadata": {},
          "execution_count": 36
        }
      ]
    },
    {
      "cell_type": "code",
      "source": [
        "a"
      ],
      "metadata": {
        "colab": {
          "base_uri": "https://localhost:8080/"
        },
        "id": "W5FmPOq2bN3I",
        "outputId": "1f4411b5-fbab-4c70-e3da-372fb5e8da21"
      },
      "execution_count": null,
      "outputs": [
        {
          "output_type": "execute_result",
          "data": {
            "text/plain": [
              "array([[3, 2, 2],\n",
              "       [1, 4, 1],\n",
              "       [4, 3, 2]])"
            ]
          },
          "metadata": {},
          "execution_count": 37
        }
      ]
    },
    {
      "cell_type": "code",
      "source": [
        "b = np.random.randint(1,5,size=(2,2));\n",
        "b"
      ],
      "metadata": {
        "colab": {
          "base_uri": "https://localhost:8080/"
        },
        "id": "RyV5dlvFbmtZ",
        "outputId": "c21bcec1-42be-4eae-e46b-518018c96f65"
      },
      "execution_count": null,
      "outputs": [
        {
          "output_type": "execute_result",
          "data": {
            "text/plain": [
              "array([[3, 4],\n",
              "       [1, 4]])"
            ]
          },
          "metadata": {},
          "execution_count": 38
        }
      ]
    },
    {
      "cell_type": "code",
      "source": [
        "np.linalg.det(b)"
      ],
      "metadata": {
        "colab": {
          "base_uri": "https://localhost:8080/"
        },
        "id": "LfkIXfBcbuKX",
        "outputId": "fff6647c-57c3-4e4d-fb0e-8b4e3edd85dd"
      },
      "execution_count": null,
      "outputs": [
        {
          "output_type": "execute_result",
          "data": {
            "text/plain": [
              "8.000000000000002"
            ]
          },
          "metadata": {},
          "execution_count": 39
        }
      ]
    },
    {
      "cell_type": "code",
      "source": [
        "a"
      ],
      "metadata": {
        "colab": {
          "base_uri": "https://localhost:8080/"
        },
        "id": "Hi65Llz8byrW",
        "outputId": "da528d03-b0d6-4457-8d82-64332b02ba68"
      },
      "execution_count": null,
      "outputs": [
        {
          "output_type": "execute_result",
          "data": {
            "text/plain": [
              "array([[3, 2, 2],\n",
              "       [1, 4, 1],\n",
              "       [4, 3, 2]])"
            ]
          },
          "metadata": {},
          "execution_count": 40
        }
      ]
    },
    {
      "cell_type": "code",
      "source": [
        "np.linalg.det(a)"
      ],
      "metadata": {
        "colab": {
          "base_uri": "https://localhost:8080/"
        },
        "id": "JJEHyBShb9By",
        "outputId": "12b4e3eb-cba7-4582-dfc0-9b8739fdeffd"
      },
      "execution_count": null,
      "outputs": [
        {
          "output_type": "execute_result",
          "data": {
            "text/plain": [
              "-7.000000000000001"
            ]
          },
          "metadata": {},
          "execution_count": 41
        }
      ]
    },
    {
      "cell_type": "code",
      "source": [
        "3 * (4*2 - 1*3) - 2 * (1*2-1*4) + 2*(1*3-4*4)"
      ],
      "metadata": {
        "colab": {
          "base_uri": "https://localhost:8080/"
        },
        "id": "dOptP9yAb_SB",
        "outputId": "bc35debe-107c-4229-f398-9b7000193c38"
      },
      "execution_count": null,
      "outputs": [
        {
          "output_type": "execute_result",
          "data": {
            "text/plain": [
              "-7"
            ]
          },
          "metadata": {},
          "execution_count": 42
        }
      ]
    },
    {
      "cell_type": "code",
      "source": [
        "a"
      ],
      "metadata": {
        "colab": {
          "base_uri": "https://localhost:8080/"
        },
        "id": "4BRPKNyRcOUz",
        "outputId": "9e7dd506-6cc0-4874-edba-f0ef37719af7"
      },
      "execution_count": null,
      "outputs": [
        {
          "output_type": "execute_result",
          "data": {
            "text/plain": [
              "array([[3, 2, 2],\n",
              "       [1, 4, 1],\n",
              "       [4, 3, 2]])"
            ]
          },
          "metadata": {},
          "execution_count": 43
        }
      ]
    },
    {
      "cell_type": "code",
      "source": [
        "np.linalg.det(a)"
      ],
      "metadata": {
        "colab": {
          "base_uri": "https://localhost:8080/"
        },
        "id": "1wFaUoW3cfg5",
        "outputId": "5ca43786-4545-456e-e68c-03b57aea728b"
      },
      "execution_count": null,
      "outputs": [
        {
          "output_type": "execute_result",
          "data": {
            "text/plain": [
              "-7.000000000000001"
            ]
          },
          "metadata": {},
          "execution_count": 44
        }
      ]
    },
    {
      "cell_type": "code",
      "source": [
        "np.linalg.det(a.T)"
      ],
      "metadata": {
        "colab": {
          "base_uri": "https://localhost:8080/"
        },
        "id": "eoO3NKokchjx",
        "outputId": "964811b7-dd01-42c8-d6bc-6a0f724cb9fa"
      },
      "execution_count": null,
      "outputs": [
        {
          "output_type": "execute_result",
          "data": {
            "text/plain": [
              "-6.999999999999998"
            ]
          },
          "metadata": {},
          "execution_count": 45
        }
      ]
    },
    {
      "cell_type": "code",
      "source": [
        "b = np.random.randint(1,5,size=(3,3));b\n",
        "b"
      ],
      "metadata": {
        "colab": {
          "base_uri": "https://localhost:8080/"
        },
        "id": "TFTm-bbEcjnJ",
        "outputId": "d2931402-11e4-49a5-b602-ea54b5a50e99"
      },
      "execution_count": null,
      "outputs": [
        {
          "output_type": "execute_result",
          "data": {
            "text/plain": [
              "array([[3, 2, 1],\n",
              "       [4, 4, 2],\n",
              "       [3, 3, 2]])"
            ]
          },
          "metadata": {},
          "execution_count": 52
        }
      ]
    },
    {
      "cell_type": "code",
      "source": [
        "np.linalg.det(np.dot(a,b))"
      ],
      "metadata": {
        "colab": {
          "base_uri": "https://localhost:8080/"
        },
        "id": "nUvm5s7hcu1B",
        "outputId": "14b37af0-b2fa-460d-bb30-e709f3bdc916"
      },
      "execution_count": null,
      "outputs": [
        {
          "output_type": "execute_result",
          "data": {
            "text/plain": [
              "-13.999999999999996"
            ]
          },
          "metadata": {},
          "execution_count": 53
        }
      ]
    },
    {
      "cell_type": "code",
      "source": [
        "np.dot(np.linalg.det(a),np.linalg.det(b))"
      ],
      "metadata": {
        "colab": {
          "base_uri": "https://localhost:8080/"
        },
        "id": "LZAkaKCrc32R",
        "outputId": "c8b8cb40-ccd7-415f-bc87-8c7f71b01890"
      },
      "execution_count": null,
      "outputs": [
        {
          "output_type": "execute_result",
          "data": {
            "text/plain": [
              "-14.000000000000002"
            ]
          },
          "metadata": {},
          "execution_count": 55
        }
      ]
    },
    {
      "cell_type": "code",
      "source": [
        "a"
      ],
      "metadata": {
        "colab": {
          "base_uri": "https://localhost:8080/"
        },
        "id": "k0_npUZTdD4j",
        "outputId": "d9cdd88a-5b3a-4cd6-f587-7abf9ee5a844"
      },
      "execution_count": null,
      "outputs": [
        {
          "output_type": "execute_result",
          "data": {
            "text/plain": [
              "array([[3, 2, 2],\n",
              "       [1, 4, 1],\n",
              "       [4, 3, 2]])"
            ]
          },
          "metadata": {},
          "execution_count": 56
        }
      ]
    },
    {
      "cell_type": "code",
      "source": [
        "np.linalg.matrix_rank(a)"
      ],
      "metadata": {
        "colab": {
          "base_uri": "https://localhost:8080/"
        },
        "id": "3HCBGAWmdURg",
        "outputId": "a541768f-e22c-4a66-a8de-0097ed862efd"
      },
      "execution_count": null,
      "outputs": [
        {
          "output_type": "execute_result",
          "data": {
            "text/plain": [
              "3"
            ]
          },
          "metadata": {},
          "execution_count": 57
        }
      ]
    },
    {
      "cell_type": "code",
      "source": [
        "b = np.random.randint(1,5,size=(2,3));b\n",
        "b"
      ],
      "metadata": {
        "colab": {
          "base_uri": "https://localhost:8080/"
        },
        "id": "1614jMhodWzx",
        "outputId": "60025bbb-e141-4870-bd2d-44c6a0659164"
      },
      "execution_count": null,
      "outputs": [
        {
          "output_type": "execute_result",
          "data": {
            "text/plain": [
              "array([[4, 2, 1],\n",
              "       [3, 1, 3]])"
            ]
          },
          "metadata": {},
          "execution_count": 58
        }
      ]
    },
    {
      "cell_type": "code",
      "source": [
        "np.linalg.matrix_rank(b)"
      ],
      "metadata": {
        "colab": {
          "base_uri": "https://localhost:8080/"
        },
        "id": "Je3BOvnQdb2h",
        "outputId": "035d1ea5-f4a4-4ee3-a8c4-4d726b565da6"
      },
      "execution_count": null,
      "outputs": [
        {
          "output_type": "execute_result",
          "data": {
            "text/plain": [
              "2"
            ]
          },
          "metadata": {},
          "execution_count": 59
        }
      ]
    },
    {
      "cell_type": "code",
      "source": [
        "c = np.array([[1,2,3],[2,4,6],[3,1,5]]);c"
      ],
      "metadata": {
        "colab": {
          "base_uri": "https://localhost:8080/"
        },
        "id": "nf5iOCWtdeip",
        "outputId": "c98f1caf-7036-4e65-b391-5a7b8d767fbe"
      },
      "execution_count": null,
      "outputs": [
        {
          "output_type": "execute_result",
          "data": {
            "text/plain": [
              "array([[1, 2, 3],\n",
              "       [2, 4, 6],\n",
              "       [3, 1, 5]])"
            ]
          },
          "metadata": {},
          "execution_count": 61
        }
      ]
    },
    {
      "cell_type": "code",
      "source": [
        "np.linalg.matrix_rank(c)"
      ],
      "metadata": {
        "colab": {
          "base_uri": "https://localhost:8080/"
        },
        "id": "ciTeTFr1dr_5",
        "outputId": "cf28babb-a2a0-40ff-bc62-7b882ac761cc"
      },
      "execution_count": null,
      "outputs": [
        {
          "output_type": "execute_result",
          "data": {
            "text/plain": [
              "2"
            ]
          },
          "metadata": {},
          "execution_count": 62
        }
      ]
    },
    {
      "cell_type": "code",
      "source": [
        "(-2)*R1 + (1)*R2 = 0;\n",
        "c1 = -2\n",
        "c2 = 1"
      ],
      "metadata": {
        "id": "NPbkX4w7dwfp"
      },
      "execution_count": null,
      "outputs": []
    },
    {
      "cell_type": "code",
      "source": [
        "v = np.random.randint(1,5,size=(20,30));v"
      ],
      "metadata": {
        "colab": {
          "base_uri": "https://localhost:8080/"
        },
        "id": "iQI0vVTOeaT0",
        "outputId": "efadd1b3-d8e7-4151-f3e7-79b1386906be"
      },
      "execution_count": null,
      "outputs": [
        {
          "output_type": "execute_result",
          "data": {
            "text/plain": [
              "array([[2, 2, 3, 1, 3, 1, 2, 3, 2, 3, 2, 2, 4, 2, 1, 3, 2, 3, 2, 1, 4, 3,\n",
              "        4, 3, 1, 3, 4, 1, 2, 2],\n",
              "       [2, 1, 1, 4, 4, 4, 4, 1, 1, 4, 4, 3, 3, 4, 3, 4, 2, 3, 2, 2, 1, 1,\n",
              "        3, 1, 3, 1, 1, 4, 4, 3],\n",
              "       [3, 3, 4, 3, 3, 1, 3, 4, 4, 3, 4, 1, 2, 3, 1, 2, 3, 2, 1, 2, 1, 2,\n",
              "        3, 2, 4, 3, 2, 3, 1, 3],\n",
              "       [2, 1, 3, 2, 4, 1, 3, 1, 1, 4, 1, 4, 3, 1, 2, 4, 2, 1, 3, 4, 2, 1,\n",
              "        2, 1, 3, 2, 2, 1, 4, 2],\n",
              "       [4, 2, 4, 3, 1, 2, 3, 1, 4, 3, 1, 2, 1, 3, 2, 2, 3, 3, 1, 1, 2, 2,\n",
              "        1, 4, 3, 4, 2, 2, 2, 3],\n",
              "       [1, 1, 3, 3, 1, 1, 4, 4, 3, 4, 1, 4, 1, 4, 4, 3, 1, 1, 3, 1, 4, 2,\n",
              "        3, 1, 2, 4, 3, 3, 4, 4],\n",
              "       [3, 4, 4, 3, 1, 2, 1, 4, 4, 1, 4, 2, 1, 1, 3, 1, 4, 3, 1, 4, 1, 4,\n",
              "        4, 2, 2, 2, 2, 2, 3, 2],\n",
              "       [2, 4, 3, 3, 2, 3, 4, 3, 4, 2, 1, 4, 4, 1, 4, 4, 2, 2, 1, 4, 2, 2,\n",
              "        4, 3, 2, 4, 3, 3, 4, 4],\n",
              "       [2, 4, 4, 3, 1, 1, 3, 1, 4, 4, 1, 1, 1, 2, 1, 3, 4, 3, 3, 3, 3, 2,\n",
              "        4, 3, 4, 2, 4, 3, 4, 1],\n",
              "       [2, 2, 2, 3, 3, 3, 4, 2, 1, 1, 1, 3, 1, 1, 4, 3, 1, 2, 1, 3, 1, 3,\n",
              "        1, 2, 1, 3, 3, 3, 4, 1],\n",
              "       [2, 4, 2, 4, 4, 4, 1, 4, 4, 4, 1, 3, 2, 1, 1, 1, 3, 3, 3, 3, 4, 1,\n",
              "        3, 2, 1, 4, 2, 4, 4, 3],\n",
              "       [2, 2, 3, 3, 1, 2, 4, 1, 2, 4, 1, 2, 1, 2, 4, 4, 1, 4, 4, 1, 1, 3,\n",
              "        2, 4, 1, 3, 3, 2, 4, 1],\n",
              "       [4, 4, 3, 1, 3, 4, 4, 2, 2, 3, 4, 1, 4, 3, 1, 2, 2, 2, 1, 3, 1, 3,\n",
              "        1, 3, 4, 1, 1, 3, 3, 3],\n",
              "       [1, 4, 4, 2, 1, 4, 1, 3, 3, 4, 3, 4, 2, 3, 4, 2, 2, 2, 3, 4, 1, 1,\n",
              "        2, 3, 1, 4, 3, 3, 4, 4],\n",
              "       [1, 2, 4, 4, 2, 2, 2, 4, 3, 4, 2, 3, 1, 3, 3, 2, 2, 3, 2, 1, 4, 4,\n",
              "        3, 4, 4, 2, 3, 3, 1, 3],\n",
              "       [1, 2, 1, 1, 1, 1, 1, 2, 3, 2, 4, 1, 2, 2, 2, 3, 4, 4, 2, 4, 1, 2,\n",
              "        1, 3, 2, 1, 2, 2, 1, 2],\n",
              "       [2, 3, 4, 4, 2, 2, 3, 3, 1, 3, 1, 1, 4, 2, 4, 1, 1, 2, 2, 1, 4, 4,\n",
              "        1, 4, 2, 2, 1, 3, 3, 4],\n",
              "       [2, 3, 3, 4, 1, 3, 1, 4, 4, 4, 1, 3, 3, 3, 4, 2, 3, 1, 1, 3, 2, 2,\n",
              "        3, 3, 3, 1, 1, 1, 2, 4],\n",
              "       [4, 3, 4, 3, 4, 2, 1, 1, 4, 4, 1, 2, 3, 4, 2, 3, 1, 2, 1, 1, 4, 4,\n",
              "        2, 1, 4, 2, 4, 3, 3, 1],\n",
              "       [1, 4, 1, 3, 3, 2, 4, 3, 2, 4, 2, 4, 2, 3, 2, 3, 2, 3, 3, 3, 2, 3,\n",
              "        3, 4, 1, 2, 4, 3, 4, 2]])"
            ]
          },
          "metadata": {},
          "execution_count": 63
        }
      ]
    },
    {
      "cell_type": "code",
      "source": [
        "np.linalg.matrix_rank(v)"
      ],
      "metadata": {
        "colab": {
          "base_uri": "https://localhost:8080/"
        },
        "id": "9GjqTx32eeVx",
        "outputId": "4c0a0349-0b78-4dc1-b58c-797b0dc656d0"
      },
      "execution_count": null,
      "outputs": [
        {
          "output_type": "execute_result",
          "data": {
            "text/plain": [
              "20"
            ]
          },
          "metadata": {},
          "execution_count": 64
        }
      ]
    },
    {
      "cell_type": "code",
      "source": [
        "x = np.random.randint(1,8,size=(2,2));x"
      ],
      "metadata": {
        "colab": {
          "base_uri": "https://localhost:8080/"
        },
        "id": "9rCJ-fMDejJx",
        "outputId": "dd0859cb-332d-4b9a-faf1-416ba1634381"
      },
      "execution_count": null,
      "outputs": [
        {
          "output_type": "execute_result",
          "data": {
            "text/plain": [
              "array([[5, 3],\n",
              "       [1, 2]])"
            ]
          },
          "metadata": {},
          "execution_count": 70
        }
      ]
    },
    {
      "cell_type": "code",
      "source": [
        "x_inv = np.linalg.inv(x)"
      ],
      "metadata": {
        "id": "Q0m694WffkuR"
      },
      "execution_count": null,
      "outputs": []
    },
    {
      "cell_type": "code",
      "source": [
        "np.dot(x,x_inv)"
      ],
      "metadata": {
        "colab": {
          "base_uri": "https://localhost:8080/"
        },
        "id": "0ncqwHvofsux",
        "outputId": "8dc16f4a-ce1f-43b2-ef89-a0c964e3c7ec"
      },
      "execution_count": null,
      "outputs": [
        {
          "output_type": "execute_result",
          "data": {
            "text/plain": [
              "array([[ 1.00000000e+00, -3.33066907e-16],\n",
              "       [ 0.00000000e+00,  1.00000000e+00]])"
            ]
          },
          "metadata": {},
          "execution_count": 73
        }
      ]
    },
    {
      "cell_type": "code",
      "source": [
        "np.dot(x,x_inv).astype(int)"
      ],
      "metadata": {
        "colab": {
          "base_uri": "https://localhost:8080/"
        },
        "id": "DHycRTIzfwiZ",
        "outputId": "8634e889-d901-48c8-87e8-e5839b49a1a7"
      },
      "execution_count": null,
      "outputs": [
        {
          "output_type": "execute_result",
          "data": {
            "text/plain": [
              "array([[1, 0],\n",
              "       [0, 1]])"
            ]
          },
          "metadata": {},
          "execution_count": 74
        }
      ]
    },
    {
      "cell_type": "code",
      "source": [
        "a = np.array([[3,2],[1,5]]);\n",
        "b = np.array([[2,4],[6,1]]);"
      ],
      "metadata": {
        "id": "81GvHJh-gDKR"
      },
      "execution_count": null,
      "outputs": []
    },
    {
      "cell_type": "code",
      "source": [
        "np.linalg.inv(np.dot(a,b))"
      ],
      "metadata": {
        "colab": {
          "base_uri": "https://localhost:8080/"
        },
        "id": "hBSQWGA6gaO6",
        "outputId": "13e4a185-a48f-4466-81ed-ccebce8c4592"
      },
      "execution_count": null,
      "outputs": [
        {
          "output_type": "execute_result",
          "data": {
            "text/plain": [
              "array([[-0.03146853,  0.04895105],\n",
              "       [ 0.11188811, -0.06293706]])"
            ]
          },
          "metadata": {},
          "execution_count": 77
        }
      ]
    },
    {
      "cell_type": "code",
      "source": [
        "np.dot(np.linalg.inv(b),np.linalg.inv(a))"
      ],
      "metadata": {
        "colab": {
          "base_uri": "https://localhost:8080/"
        },
        "id": "IdB2npUpiPd6",
        "outputId": "0dad3f13-ffac-41bb-e73a-4ad04f081773"
      },
      "execution_count": null,
      "outputs": [
        {
          "output_type": "execute_result",
          "data": {
            "text/plain": [
              "array([[-0.03146853,  0.04895105],\n",
              "       [ 0.11188811, -0.06293706]])"
            ]
          },
          "metadata": {},
          "execution_count": 78
        }
      ]
    },
    {
      "cell_type": "code",
      "source": [
        "np.linalg.inv(a.T)"
      ],
      "metadata": {
        "colab": {
          "base_uri": "https://localhost:8080/"
        },
        "id": "ETjqqc-UiTZR",
        "outputId": "1a74eea6-291f-4951-f0bb-078e4cee90c5"
      },
      "execution_count": null,
      "outputs": [
        {
          "output_type": "execute_result",
          "data": {
            "text/plain": [
              "array([[ 0.38461538, -0.07692308],\n",
              "       [-0.15384615,  0.23076923]])"
            ]
          },
          "metadata": {},
          "execution_count": 79
        }
      ]
    },
    {
      "cell_type": "code",
      "source": [
        "np.linalg.inv(a).T"
      ],
      "metadata": {
        "colab": {
          "base_uri": "https://localhost:8080/"
        },
        "id": "13lDbW5MiZtZ",
        "outputId": "3af01c08-2f45-424e-a8b9-ea16480269af"
      },
      "execution_count": null,
      "outputs": [
        {
          "output_type": "execute_result",
          "data": {
            "text/plain": [
              "array([[ 0.38461538, -0.07692308],\n",
              "       [-0.15384615,  0.23076923]])"
            ]
          },
          "metadata": {},
          "execution_count": 80
        }
      ]
    },
    {
      "cell_type": "code",
      "source": [
        "np.linalg.inv(np.linalg.inv(a))"
      ],
      "metadata": {
        "colab": {
          "base_uri": "https://localhost:8080/"
        },
        "id": "SDkfnslBicd5",
        "outputId": "33febfb8-243c-4ab9-aea3-f77ca8e029e1"
      },
      "execution_count": null,
      "outputs": [
        {
          "output_type": "execute_result",
          "data": {
            "text/plain": [
              "array([[3., 2.],\n",
              "       [1., 5.]])"
            ]
          },
          "metadata": {},
          "execution_count": 81
        }
      ]
    },
    {
      "cell_type": "code",
      "source": [
        "a"
      ],
      "metadata": {
        "id": "mtAP6ssti9Jp",
        "outputId": "b7c866d2-d886-4161-fad2-324373703fce",
        "colab": {
          "base_uri": "https://localhost:8080/"
        }
      },
      "execution_count": null,
      "outputs": [
        {
          "output_type": "execute_result",
          "data": {
            "text/plain": [
              "array([[3, 2],\n",
              "       [1, 5]])"
            ]
          },
          "metadata": {},
          "execution_count": 82
        }
      ]
    },
    {
      "cell_type": "code",
      "source": [],
      "metadata": {
        "id": "JJtmtOlni-P5"
      },
      "execution_count": null,
      "outputs": []
    }
  ]
}